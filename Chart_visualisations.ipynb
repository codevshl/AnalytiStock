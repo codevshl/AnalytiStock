{
 "cells": [
  {
   "cell_type": "code",
   "execution_count": 230,
   "id": "840d5ace",
   "metadata": {},
   "outputs": [],
   "source": [
    "import PyQt5\n",
    "%matplotlib qt5"
   ]
  },
  {
   "cell_type": "code",
   "execution_count": 231,
   "id": "45661df3",
   "metadata": {},
   "outputs": [],
   "source": [
    "import numpy as np\n",
    "import pandas as pd\n",
    "import yfinance as yf\n",
    "import mpl_finance as mpf\n",
    "import matplotlib.dates as mdates\n",
    "import matplotlib.pyplot as plt\n",
    "from matplotlib.lines import Line2D\n",
    "from IPython.display import Image\n",
    "import talib"
   ]
  },
  {
   "cell_type": "code",
   "execution_count": 232,
   "id": "bed90e89",
   "metadata": {},
   "outputs": [],
   "source": [
    "def load_data(ticker, start_date, end_date):\n",
    "    tickerSymbol = ticker\n",
    "    tickerData = yf.Ticker(tickerSymbol)\n",
    "    df = tickerData.history(period=\"1d\", start=start_date, end=end_date)\n",
    "    df['Date'] = mdates.date2num(df.index)\n",
    "    \n",
    "     # Check if the DataFrame is empty, return it immediately if it is\n",
    "    if df.empty:\n",
    "        return df\n",
    "    \n",
    "    # Check if the columns exist before dropping them\n",
    "    columns_to_drop = ['Stock Splits', 'Dividends']\n",
    "    existing_columns = df.columns.tolist()\n",
    "    for column in columns_to_drop:\n",
    "        if column in existing_columns:\n",
    "            df.drop(column, axis=1, inplace=True)\n",
    "    \n",
    "    return df"
   ]
  },
  {
   "cell_type": "code",
   "execution_count": 234,
   "id": "d8ef471e",
   "metadata": {},
   "outputs": [],
   "source": [
    "def plot_candlestick_chart(df, save_filename=None):\n",
    "    plt.rcParams['figure.figsize'] = [12, 12]\n",
    "    plt.rc('font', size=14)\n",
    "    fig, ax = plt.subplots()\n",
    "    mpf.candlestick_ohlc(ax, df[['Date', 'Open', 'High', 'Low', 'Close']].values,\n",
    "                         width=0.8, colorup='green', colordown='red')\n",
    "    date_format = mdates.DateFormatter('%Y-%m-%d')\n",
    "    ax.xaxis.set_major_formatter(date_format)\n",
    "    fig.autofmt_xdate()\n",
    "    ax.set_title('Candlestick Chart')\n",
    "    ax.set_xlabel('Date')\n",
    "    ax.set_ylabel('Price ($)')\n",
    "\n",
    "    if save_filename:\n",
    "        fig.savefig(save_filename)\n",
    "    else:\n",
    "        plt.show()"
   ]
  },
  {
   "cell_type": "code",
   "execution_count": 235,
   "id": "52576701",
   "metadata": {},
   "outputs": [],
   "source": [
    "# Define functions for support and resistance\n",
    "def isSupport(df, i):\n",
    "    support = (\n",
    "        df['Low'][i] < df['Low'][i - 1]\n",
    "        and df['Low'][i] < df['Low'][i + 1]\n",
    "        and df['Low'][i + 1] < df['Low'][i + 2]\n",
    "        and df['Low'][i - 1] < df['Low'][i - 2]\n",
    "    )\n",
    "    return support"
   ]
  },
  {
   "cell_type": "code",
   "execution_count": 236,
   "id": "bfd200e1",
   "metadata": {},
   "outputs": [],
   "source": [
    "def isResistance(df, i):\n",
    "    resistance = (\n",
    "        df['High'][i] > df['High'][i - 1]\n",
    "        and df['High'][i] > df['High'][i + 1]\n",
    "        and df['High'][i + 1] > df['High'][i + 2]\n",
    "        and df['High'][i - 1] > df['High'][i - 2]\n",
    "    )\n",
    "    return resistance"
   ]
  },
  {
   "cell_type": "code",
   "execution_count": 237,
   "id": "f3ccbd03",
   "metadata": {},
   "outputs": [],
   "source": [
    "# Find and store support and resistance levels\n",
    "def find_support_resistance_levels(df):\n",
    "    resistance_levels = []\n",
    "    support_levels = []\n",
    "\n",
    "    for i in range(2, df.shape[0]-2):\n",
    "        if isSupport(df, i):\n",
    "            support_levels.append((i, df['Low'][i]))\n",
    "        elif isResistance(df, i):\n",
    "            resistance_levels.append((i, df['High'][i]))\n",
    "\n",
    "    return support_levels, resistance_levels"
   ]
  },
  {
   "cell_type": "code",
   "execution_count": 238,
   "id": "d99b465a",
   "metadata": {},
   "outputs": [],
   "source": [
    "def plot_support_resistance_chart(df, levels, levelr, save_filename='sup_res.png'):\n",
    "    fig, ax = plt.subplots()\n",
    "    mpf.candlestick_ohlc(ax, df[['Date', 'Open', 'High', 'Low', 'Close']].values, width=0.8, colorup='green', colordown='red', alpha=0.8)\n",
    "    date_format = mdates.DateFormatter('%d %b %Y')\n",
    "    ax.xaxis.set_major_formatter(date_format)\n",
    "    fig.autofmt_xdate()\n",
    "    ax.set_title('Support/Resistance Candlestick Chart', color='#800080', bbox=dict(facecolor='lightgrey', edgecolor='black'))\n",
    "    ax.set_xlabel('Date', color='#800080')\n",
    "    ax.set_ylabel('Price ($)', color='#800080')\n",
    "    fig.tight_layout()\n",
    "\n",
    "    support_label = 'Support'\n",
    "    resistance_label = 'Resistance'\n",
    "\n",
    "    support_lines = []\n",
    "    for level in levels:\n",
    "        line = plt.hlines(level[1], xmin=df['Date'][level[0]], xmax=max(df['Date']), colors='blue', label=support_label)\n",
    "        support_lines.append(line)\n",
    "\n",
    "    resistance_lines = []\n",
    "    for level in levelr:\n",
    "        line = plt.hlines(level[1], xmin=df['Date'][level[0]], xmax=max(df['Date']), colors='#DEC20B', label=resistance_label)\n",
    "        resistance_lines.append(line)\n",
    "\n",
    "    legend_lines = [Line2D([0], [0], color='blue', lw=2, label=support_label), Line2D([0], [0], color='#DEC20B', lw=2, label=resistance_label)]\n",
    "    ax.legend(handles=legend_lines, facecolor='lightgrey', framealpha=1.0)\n",
    "    fig.savefig(save_filename)\n",
    "    plt.show()\n",
    "\n",
    " "
   ]
  },
  {
   "cell_type": "code",
   "execution_count": 239,
   "id": "1d9b5a16",
   "metadata": {},
   "outputs": [],
   "source": [
    "def plot_support_resistance_chart(df, levels, levelr, save_filename='sup_res.png'):\n",
    "    fig, ax = plt.subplots()\n",
    "    mpf.candlestick_ohlc(ax, df[['Date', 'Open', 'High', 'Low', 'Close']].values, width=0.8, colorup='green', colordown='red', alpha=0.8)\n",
    "    date_format = mdates.DateFormatter('%d %b %Y')\n",
    "    ax.xaxis.set_major_formatter(date_format)\n",
    "    fig.autofmt_xdate()\n",
    "    ax.set_title('Support/Resistance Candlestick Chart', color='#800080', bbox=dict(facecolor='lightgrey', edgecolor='black'))\n",
    "    ax.set_xlabel('Date', color='#800080')\n",
    "    ax.set_ylabel('Price ($)', color='#800080')\n",
    "    fig.tight_layout()\n",
    "\n",
    "    support_label = 'Support'\n",
    "    resistance_label = 'Resistance'\n",
    "\n",
    "    support_lines = []\n",
    "    for level in levels:\n",
    "        line = plt.hlines(level[1], xmin=df['Date'][level[0]], xmax=max(df['Date']), colors='blue', label=support_label)\n",
    "        support_lines.append(line)\n",
    "\n",
    "    resistance_lines = []\n",
    "    for level in levelr:\n",
    "        line = plt.hlines(level[1], xmin=df['Date'][level[0]], xmax=max(df['Date']), colors='#DEC20B', label=resistance_label)\n",
    "        resistance_lines.append(line)\n",
    "\n",
    "    legend_lines = [Line2D([0], [0], color='blue', lw=2, label=support_label), Line2D([0], [0], color='#DEC20B', lw=2, label=resistance_label)]\n",
    "    ax.legend(handles=legend_lines, facecolor='lightgrey', framealpha=1.0)\n",
    "    fig.savefig(save_filename)\n",
    "    plt.show()\n",
    "\n",
    " "
   ]
  },
  {
   "cell_type": "code",
   "execution_count": 240,
   "id": "61608e54",
   "metadata": {},
   "outputs": [],
   "source": [
    "   \n",
    "def filter_support_resistance_levels(df, support_levels, resistance_levels):\n",
    "    avg_candlesize = np.mean(df['High'] - df['Low'])\n",
    "    \n",
    "    updated_support_levels = []\n",
    "    updated_resistance_levels = []\n",
    "\n",
    "    for i in range(2,df.shape[0]-2):\n",
    "        \n",
    "        if isSupport(df,i):\n",
    "          l = df['Low'][i]\n",
    "          if isFarFromLevel(l,avg_candlesize, updated_support_levels, updated_resistance_levels):\n",
    "            updated_support_levels.append((i,l))\n",
    "        elif isResistance(df,i):\n",
    "          l = df['High'][i]\n",
    "          if isFarFromLevel(l,avg_candlesize, updated_support_levels, updated_resistance_levels):\n",
    "            updated_resistance_levels.append((i,l))\n",
    "            \n",
    "    return updated_support_levels, updated_resistance_levels"
   ]
  },
  {
   "cell_type": "code",
   "execution_count": 241,
   "id": "8fbd49e2",
   "metadata": {},
   "outputs": [],
   "source": [
    "def isFarFromLevel(l, avg_candlesize, updated_support_levels, updated_resistance_levels):\n",
    "    \n",
    "    # check if l is far from support levels\n",
    "    far_from_support = np.sum([abs(l-x[1]) < avg_candlesize for x in updated_support_levels]) == 0\n",
    "    # check if l is far from resistance levels\n",
    "    far_from_resistance = np.sum([abs(l-x[1]) < avg_candlesize for x in updated_resistance_levels]) == 0\n",
    "             \n",
    "    return far_from_support or far_from_resistance"
   ]
  },
  {
   "cell_type": "code",
   "execution_count": 242,
   "id": "b25383a3",
   "metadata": {},
   "outputs": [],
   "source": [
    "def main():\n",
    "    ticker_symbol = 'AAPL'\n",
    "    start_date = '2022-03-08'\n",
    "    end_date = '2023-03-08'\n",
    "\n",
    "    df = fetch_stock_data(ticker_symbol, start_date, end_date)\n",
    "    calculate_technical_indicators(df)\n",
    "    plot_candlestick_chart(df, 'candlestick_chart.png')\n",
    "    \n",
    "    support_levels, resistance_levels=find_support_resistance_levels(df)\n",
    "    plot_support_resistance_chart(df, support_levels, resistance_levels, save_filename='noisy_sup_res.png')\n",
    "    \n",
    "    updated_support_levels, updated_resistance_levels = filter_support_resistance_levels(df,  support_levels, resistance_levels)\n",
    "    plot_support_resistance_chart(df,updated_support_levels, updated_resistance_levels, save_filename='clean_sup_res.png')\n"
   ]
  },
  {
   "cell_type": "code",
   "execution_count": 243,
   "id": "2ea314dd",
   "metadata": {
    "scrolled": false
   },
   "outputs": [
    {
     "name": "stdout",
     "output_type": "stream",
     "text": [
      "16\n",
      "19\n"
     ]
    }
   ],
   "source": [
    "if __name__ == \"__main__\":\n",
    "    main()"
   ]
  }
 ],
 "metadata": {
  "kernelspec": {
   "display_name": "Python 3 (ipykernel)",
   "language": "python",
   "name": "python3"
  },
  "language_info": {
   "codemirror_mode": {
    "name": "ipython",
    "version": 3
   },
   "file_extension": ".py",
   "mimetype": "text/x-python",
   "name": "python",
   "nbconvert_exporter": "python",
   "pygments_lexer": "ipython3",
   "version": "3.9.13"
  }
 },
 "nbformat": 4,
 "nbformat_minor": 5
}
