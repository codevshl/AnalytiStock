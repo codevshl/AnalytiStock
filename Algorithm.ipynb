{
 "cells": [
  {
   "cell_type": "code",
   "execution_count": null,
   "id": "0b14ce63",
   "metadata": {},
   "outputs": [],
   "source": [
    "import sys\n",
    "sys.path.append(r'C:\\Users\\LUV\\T\\Functions')\n",
    "from Chart_visualisation_functions import load_data,find_support_resistance_levels,filter_support_resistance_levels"
   ]
  },
  {
   "cell_type": "code",
   "execution_count": null,
   "id": "6886e213",
   "metadata": {},
   "outputs": [],
   "source": [
    "import tkinter as tk\n",
    "from tkinter import ttk\n",
    "import pandas as pd\n",
    "import numpy as np\n",
    "import matplotlib.pyplot as plt\n",
    "import yfinance as yf\n",
    "import mplfinance as mpf\n",
    "import talib as tb\n",
    "import matplotlib.dates as mdates"
   ]
  },
  {
   "cell_type": "code",
   "execution_count": null,
   "id": "c9db0c23",
   "metadata": {},
   "outputs": [],
   "source": [
    "def calculate_technical_indicators(df):\n",
    "    df['SMA20'] = tb.SMA(df['Close'], timeperiod=20)\n",
    "    df['SMA50'] = tb.SMA(df['Close'], timeperiod=50)\n",
    "    df['RSI'] = tb.RSI(df['Close'].values, timeperiod=14)\n",
    "    return df"
   ]
  },
  {
   "cell_type": "code",
   "execution_count": null,
   "id": "7e9abac6",
   "metadata": {},
   "outputs": [],
   "source": [
    "def add_support_resistance_columns(df, updated_support_levels, updated_resistance_levels):\n",
    "    df['Resistance'] = 0\n",
    "    df['Support'] = 0\n",
    "\n",
    "    for index, row in df.iterrows():\n",
    "        high_value = row['High']\n",
    "        if any(high_value == url[1] for url in updated_resistance_levels):\n",
    "            df.at[index, 'Resistance'] = 1\n",
    "\n",
    "        low_value = row['Low']\n",
    "        if any(low_value == usl[1] for usl in updated_support_levels):\n",
    "            df.at[index,'Support'] = 1\n",
    "    return df"
   ]
  },
  {
   "cell_type": "code",
   "execution_count": null,
   "id": "95353931",
   "metadata": {},
   "outputs": [],
   "source": [
    "def generate_signals(df):\n",
    "    df['Signal'] = np.where((df['SMA20'] > df['SMA50'])  & (df['Support'] == 1), 1, np.where((df['SMA20'] < df['SMA50']) & (df['Resistance'] == 1), -1, 0))\n",
    "    \n",
    "#     df[df['Signal'] == 1]\n",
    "#     df[df['Signal'] == -1]\n",
    "    df = df.reset_index(drop=True)\n",
    "    return df"
   ]
  },
  {
   "cell_type": "code",
   "execution_count": null,
   "id": "508a45e6",
   "metadata": {},
   "outputs": [],
   "source": [
    "def calculate_profit(df):\n",
    "    positions = []\n",
    "    profit = []\n",
    "    investment = 0\n",
    "\n",
    "    for i, row in df.iterrows():\n",
    "        if row['Signal'] == 1:\n",
    "            buy_price = df.loc[i+1, 'Open']\n",
    "            positions.append({'buy_price': buy_price})\n",
    "        elif row['Signal'] == -1:\n",
    "            if len(positions) > 0:\n",
    "                for pos in positions:\n",
    "                    investment += pos['buy_price']\n",
    "                    profit.append(row['Close'] - pos['buy_price'])\n",
    "                positions = []\n",
    "    percentage_return = (sum(profit) / investment) * 100 if investment > 0 else 0           \n",
    "\n",
    "    return investment, sum(profit), percentage_return"
   ]
  },
  {
   "cell_type": "code",
   "execution_count": null,
   "id": "19ec1230",
   "metadata": {
    "scrolled": true
   },
   "outputs": [],
   "source": [
    "# Example usage\n",
    "def main_function(ticker = \"AAPL\",start_date = \"2020-01-01\",end_date = \"2022-12-31\"):\n",
    "\n",
    "    data = load_data(ticker, start_date, end_date)\n",
    "    data = calculate_technical_indicators(data)\n",
    "    support_levels, resistance_levels = find_support_resistance_levels(data)\n",
    "    updated_support_levels, updated_resistance_levels = filter_support_resistance_levels(data, support_levels, resistance_levels)\n",
    "    data = add_support_resistance_columns(data, updated_support_levels, updated_resistance_levels)\n",
    "    data = generate_signals(data)\n",
    "    investment, total_profit, percentage_return=calculate_profit(data)\n",
    "    return data,investment, total_profit, percentage_return"
   ]
  },
  {
   "cell_type": "code",
   "execution_count": null,
   "id": "af8f9047",
   "metadata": {},
   "outputs": [],
   "source": [
    "df,investment, total_profit, percentage_return = main_function()\n",
    "print(\"Investment:\", investment)\n",
    "print(\"Total Profit:\", total_profit)\n",
    "print(\"Percentage Return:\", percentage_return)"
   ]
  }
 ],
 "metadata": {
  "kernelspec": {
   "display_name": "Python 3 (ipykernel)",
   "language": "python",
   "name": "python3"
  },
  "language_info": {
   "codemirror_mode": {
    "name": "ipython",
    "version": 3
   },
   "file_extension": ".py",
   "mimetype": "text/x-python",
   "name": "python",
   "nbconvert_exporter": "python",
   "pygments_lexer": "ipython3",
   "version": "3.9.13"
  }
 },
 "nbformat": 4,
 "nbformat_minor": 5
}
