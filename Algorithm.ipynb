{
 "cells": [
  {
   "cell_type": "code",
   "execution_count": null,
   "id": "e8f281be",
   "metadata": {},
   "outputs": [],
   "source": [
    "\"\"\"\n",
    "This script performs the following tasks:\n",
    "\n",
    "1. Imports necessary libraries and custom functions.\n",
    "2. Calculates technical indicators (Simple Moving Averages and Relative Strength Index) for historical stock data.\n",
    "3. Identifies support and resistance levels in the stock data.\n",
    "4. Adds support and resistance columns to the DataFrame.\n",
    "5. Generates buy/sell signals based on predefined conditions.\n",
    "6. Calculates investment, total profit, and percentage return on investment.\n",
    "\n",
    "Usage:\n",
    "    - Modify the 'ticker,' 'start_date,' and 'end_date' parameters in the 'main_function' to analyze different stocks and date ranges.\n",
    "\n",
    "Example Usage:\n",
    "    df, investment, total_profit, percentage_return = main_function()\n",
    "    print(\"Investment:\", investment)\n",
    "    print(\"Total Profit:\", total_profit)\n",
    "    print(\"Percentage Return:\", percentage_return)\n",
    "\n",
    "Dependencies:\n",
    "    - Python libraries: sys, os, tkinter, pandas, numpy, matplotlib, yfinance, mplfinance, talib\n",
    "    - Custom library: Chart_visualisation_functions\n",
    "\n",
    "Note: Ensure that the 'Chart_visualisation_functions' library is available in the specified path.\n",
    "\n",
    "\"\"\""
   ]
  },
  {
   "cell_type": "code",
   "execution_count": null,
   "id": "0b14ce63",
   "metadata": {},
   "outputs": [],
   "source": [
    "import sys\n",
    "sys.path.append(r'C:\\Users\\LUV\\T\\Functions')  # Include a custom library path\n",
    "from Chart_visualisation_functions import load_data,find_support_resistance_levels,filter_support_resistance_levels"
   ]
  },
  {
   "cell_type": "code",
   "execution_count": null,
   "id": "6886e213",
   "metadata": {},
   "outputs": [],
   "source": [
    "# Import necessary libraries\n",
    "import tkinter as tk\n",
    "from tkinter import ttk\n",
    "import pandas as pd\n",
    "import numpy as np\n",
    "import matplotlib.pyplot as plt\n",
    "import yfinance as yf\n",
    "import mplfinance as mpf\n",
    "import talib as tb\n",
    "import matplotlib.dates as mdates"
   ]
  },
  {
   "cell_type": "code",
   "execution_count": null,
   "id": "c9db0c23",
   "metadata": {},
   "outputs": [],
   "source": [
    "# Define a function to calculate technical indicators\n",
    "def calculate_technical_indicators(df):\n",
    "    # Calculate the 20-day Simple Moving Average (SMA)\n",
    "    df['SMA20'] = tb.SMA(df['Close'], timeperiod=20)\n",
    "    \n",
    "    # Calculate the 50-day Simple Moving Average (SMA)\n",
    "    df['SMA50'] = tb.SMA(df['Close'], timeperiod=50)\n",
    "    \n",
    "    # Calculate the Relative Strength Index (RSI) with a 14-day period\n",
    "    df['RSI'] = tb.RSI(df['Close'].values, timeperiod=14)\n",
    "    \n",
    "    # Return the DataFrame with the added technical indicators\n",
    "    return df\n"
   ]
  },
  {
   "cell_type": "code",
   "execution_count": null,
   "id": "7e9abac6",
   "metadata": {},
   "outputs": [],
   "source": [
    "# Define a function to add support and resistance columns to the DataFrame\n",
    "def add_support_resistance_columns(df, updated_support_levels, updated_resistance_levels):\n",
    "    # Create 'Resistance' and 'Support' columns and initialize them to 0\n",
    "    df['Resistance'] = 0\n",
    "    df['Support'] = 0\n",
    "\n",
    "    # Loop through each row in the DataFrame\n",
    "    for index, row in df.iterrows():\n",
    "        # Extract the high and low values for the current row\n",
    "        high_value = row['High']\n",
    "        low_value = row['Low']\n",
    "\n",
    "        # Check if the current high value matches any of the updated resistance levels\n",
    "        if any(high_value == url[1] for url in updated_resistance_levels):\n",
    "            # If a match is found, set 'Resistance' column to 1\n",
    "            df.at[index, 'Resistance'] = 1\n",
    "\n",
    "        # Check if the current low value matches any of the updated support levels\n",
    "        if any(low_value == usl[1] for usl in updated_support_levels):\n",
    "            # If a match is found, set 'Support' column to 1\n",
    "            df.at[index,'Support'] = 1\n",
    "\n",
    "    # Return the DataFrame with 'Resistance' and 'Support' columns updated\n",
    "    return df"
   ]
  },
  {
   "cell_type": "code",
   "execution_count": null,
   "id": "95353931",
   "metadata": {},
   "outputs": [],
   "source": [
    "# Define a function to generate buy/sell signals based on conditions\n",
    "def generate_signals(df):\n",
    "    # Create a new column 'Signal' to store buy (1), sell (-1), or hold (0) signals\n",
    "    \n",
    "    # Buy signal condition: SMA20 crosses above SMA50 and Support level is present\n",
    "    df['Signal'] = np.where((df['SMA20'] > df['SMA50'])  & (df['Support'] == 1), 1, \n",
    "    \n",
    "                            # Sell signal condition: SMA20 crosses below SMA50 and Resistance level is present\n",
    "                            np.where((df['SMA20'] < df['SMA50']) & (df['Resistance'] == 1), -1, 0))\n",
    "    \n",
    "    # Reset the DataFrame index for consistency\n",
    "    df = df.reset_index(drop=True)\n",
    "    \n",
    "    return df"
   ]
  },
  {
   "cell_type": "code",
   "execution_count": null,
   "id": "508a45e6",
   "metadata": {},
   "outputs": [],
   "source": [
    "# Define a function to calculate investment, total profit, and percentage return\n",
    "def calculate_profit(df):\n",
    "    positions = []    # Initialize a list to store buy positions\n",
    "    profit = []       # Initialize a list to store profit amounts\n",
    "    investment = 0   # Initialize the total investment variable\n",
    "\n",
    "    for i, row in df.iterrows():\n",
    "        if row['Signal'] == 1:    # Check if the signal is a buy signal (1)\n",
    "            buy_price = df.loc[i+1, 'Open']    # Get the opening price of the next day as the buy price\n",
    "            positions.append({'buy_price': buy_price})    # Store the buy position in a list\n",
    "        elif row['Signal'] == -1:    # Check if the signal is a sell signal (-1)\n",
    "            if len(positions) > 0:    # Check if there are open buy positions\n",
    "                for pos in positions:    # Iterate through the open buy positions\n",
    "                    investment += pos['buy_price']    # Increase the total investment by the buy price\n",
    "                    profit.append(row['Close'] - pos['buy_price'])    # Calculate and store the profit\n",
    "                positions = []    # Clear the list of open buy positions\n",
    "\n",
    "    # Calculate the percentage return based on the total profit and investment\n",
    "    percentage_return = (sum(profit) / investment) * 100 if investment > 0 else 0           \n",
    "\n",
    "    return investment, sum(profit), percentage_return"
   ]
  },
  {
   "cell_type": "code",
   "execution_count": null,
   "id": "19ec1230",
   "metadata": {
    "scrolled": true
   },
   "outputs": [],
   "source": [
    "\n",
    "# Main function for processing data and generating signals\n",
    "def main_function(ticker=\"AAPL\", start_date=\"2020-01-01\", end_date=\"2022-12-31\"):\n",
    "    # Load historical stock data\n",
    "    data = load_data(ticker, start_date, end_date)\n",
    "    \n",
    "    # Calculate technical indicators\n",
    "    data = calculate_technical_indicators(data)\n",
    "    \n",
    "    # Find support and resistance levels\n",
    "    support_levels, resistance_levels = find_support_resistance_levels(data)\n",
    "    \n",
    "    # Filter support and resistance levels\n",
    "    updated_support_levels, updated_resistance_levels = filter_support_resistance_levels(data, support_levels, resistance_levels)\n",
    "    \n",
    "    # Add support and resistance columns to the DataFrame\n",
    "    data = add_support_resistance_columns(data, updated_support_levels, updated_resistance_levels)\n",
    "    \n",
    "    # Generate buy/sell signals\n",
    "    data = generate_signals(data)\n",
    "    \n",
    "    # Calculate investment, total profit, and percentage return\n",
    "    investment, total_profit, percentage_return = calculate_profit(data)\n",
    "    \n",
    "    return data, investment, total_profit, percentage_return"
   ]
  },
  {
   "cell_type": "code",
   "execution_count": null,
   "id": "af8f9047",
   "metadata": {},
   "outputs": [],
   "source": [
    "# Example usage\n",
    "df, investment, total_profit, percentage_return = main_function()\n",
    "print(\"Investment:\", investment)\n",
    "print(\"Total Profit:\", total_profit)\n",
    "print(\"Percentage Return:\", percentage_return)"
   ]
  }
 ],
 "metadata": {
  "kernelspec": {
   "display_name": "Python 3 (ipykernel)",
   "language": "python",
   "name": "python3"
  },
  "language_info": {
   "codemirror_mode": {
    "name": "ipython",
    "version": 3
   },
   "file_extension": ".py",
   "mimetype": "text/x-python",
   "name": "python",
   "nbconvert_exporter": "python",
   "pygments_lexer": "ipython3",
   "version": "3.9.13"
  }
 },
 "nbformat": 4,
 "nbformat_minor": 5
}
