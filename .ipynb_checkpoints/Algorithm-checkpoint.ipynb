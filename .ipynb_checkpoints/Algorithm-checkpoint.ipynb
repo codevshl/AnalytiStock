{
 "cells": [
  {
   "cell_type": "code",
   "execution_count": 54,
   "id": "6886e213",
   "metadata": {},
   "outputs": [],
   "source": [
    "import tkinter as tk\n",
    "from tkinter import ttk\n",
    "import pandas as pd\n",
    "import numpy as np\n",
    "import matplotlib.pyplot as plt\n",
    "import yfinance as yf\n",
    "import mplfinance as mpf\n",
    "import talib as tb\n",
    "import matplotlib.dates as mdates"
   ]
  },
  {
   "cell_type": "code",
   "execution_count": 55,
   "id": "c9db0c23",
   "metadata": {},
   "outputs": [],
   "source": [
    "def load_data(ticker, start_date, end_date):\n",
    "    tickerSymbol = ticker\n",
    "    tickerData = yf.Ticker(tickerSymbol)\n",
    "    df = tickerData.history(period=\"1d\", start=start_date, end=end_date)\n",
    "    df['Date'] = mdates.date2num(df.index)\n",
    "    \n",
    "     # Check if the DataFrame is empty, return it immediately if it is\n",
    "    if df.empty:\n",
    "        return df\n",
    "    \n",
    "    # Check if the columns exist before dropping them\n",
    "    columns_to_drop = ['Stock Splits', 'Dividends']\n",
    "    existing_columns = df.columns.tolist()\n",
    "    for column in columns_to_drop:\n",
    "        if column in existing_columns:\n",
    "            df.drop(column, axis=1, inplace=True)\n",
    "    \n",
    "    df[\"RSI\"] = tb.RSI(df['Close'].values, timeperiod=14)\n",
    "    df['SMA20'] = tb.SMA(df['Close'], timeperiod=20)\n",
    "    df['SMA50'] = tb.SMA(df['Close'], timeperiod=50)\n",
    "    return df"
   ]
  },
  {
   "cell_type": "code",
   "execution_count": 56,
   "id": "dab62f47",
   "metadata": {},
   "outputs": [],
   "source": [
    "def find_support_resistance_levels(df):\n",
    "    resistance_levels = []\n",
    "    support_levels = []\n",
    "\n",
    "    def isResistance(df, i):\n",
    "        return df['High'][i] > df['High'][i-1] and df['High'][i] > df['High'][i+1] and df['High'][i+1] > df['High'][i+2] and df['High'][i-1] > df['High'][i-2]\n",
    "\n",
    "    def isSupport(df, i):\n",
    "        return df['Low'][i] < df['Low'][i-1] and df['Low'][i] < df['Low'][i+1] and df['Low'][i+1] < df['Low'][i+2] and df['Low'][i-1] < df['Low'][i-2]\n",
    "\n",
    "    for i in range(2, df.shape[0]-2):\n",
    "        if isSupport(df, i):\n",
    "            support_levels.append((i, df['Low'][i]))\n",
    "        elif isResistance(df, i):\n",
    "            resistance_levels.append((i, df['High'][i]))\n",
    "\n",
    "    return support_levels, resistance_levels"
   ]
  },
  {
   "cell_type": "code",
   "execution_count": 57,
   "id": "466b78d1",
   "metadata": {},
   "outputs": [],
   "source": [
    "def filter_support_resistance_levels(df, support_levels, resistance_levels):\n",
    "    avg_candlesize = np.mean(df['High'] - df['Low'])\n",
    "\n",
    "    updated_support_levels = []\n",
    "    updated_resistance_levels = []\n",
    "    \n",
    "    def isFarFromLevel(l):\n",
    "        # check if l is far from support levels\n",
    "        far_from_support = np.sum([abs(l-x) < avg_candlesize for x in updated_support_levels]) == 0\n",
    "        # check if l is far from resistance levels\n",
    "        far_from_resistance = np.sum([abs(l-x) < avg_candlesize for x in updated_resistance_levels]) == 0\n",
    "        return far_from_support or far_from_resistance\n",
    "\n",
    "    updated_support_levels = [sup for sup in support_levels if isFarFromLevel(sup[1])]\n",
    "    updated_resistance_levels = [res for res in resistance_levels if isFarFromLevel(res[1])]\n",
    "\n",
    "    return updated_support_levels, updated_resistance_levels"
   ]
  },
  {
   "cell_type": "code",
   "execution_count": 58,
   "id": "7e9abac6",
   "metadata": {},
   "outputs": [],
   "source": [
    "def add_support_resistance_columns(df, updated_support_levels, updated_resistance_levels):\n",
    "    df['Resistance'] = 0\n",
    "    df['Support'] = 0\n",
    "\n",
    "    for index, row in df.iterrows():\n",
    "        high_value = row['High']\n",
    "        if any(high_value == url[1] for url in updated_resistance_levels):\n",
    "            df.at[index, 'Resistance'] = 1\n",
    "\n",
    "        low_value = row['Low']\n",
    "        if any(low_value == usl[1] for usl in updated_support_levels):\n",
    "            df.at[index,'Support'] = 1\n",
    "    return df"
   ]
  },
  {
   "cell_type": "code",
   "execution_count": 59,
   "id": "95353931",
   "metadata": {},
   "outputs": [],
   "source": [
    "def generate_signals(df):\n",
    "    df['Signal'] = np.where((df['SMA20'] > df['SMA50'])  & (df['Support'] == 1), 1, np.where((df['SMA20'] < df['SMA50']) & (df['Resistance'] == 1), -1, 0))\n",
    "    \n",
    "#     df[df['Signal'] == 1]\n",
    "#     df[df['Signal'] == -1]\n",
    "    df = df.reset_index(drop=True)\n",
    "    return df"
   ]
  },
  {
   "cell_type": "code",
   "execution_count": 60,
   "id": "508a45e6",
   "metadata": {},
   "outputs": [],
   "source": [
    "def calculate_profit(df):\n",
    "    positions = []\n",
    "    profit = []\n",
    "    investment = 0\n",
    "\n",
    "    for i, row in df.iterrows():\n",
    "        if row['Signal'] == 1:\n",
    "            buy_price = df.loc[i+1, 'Open']\n",
    "            positions.append({'buy_price': buy_price})\n",
    "        elif row['Signal'] == -1:\n",
    "            if len(positions) > 0:\n",
    "                for pos in positions:\n",
    "                    investment += pos['buy_price']\n",
    "                    profit.append(row['Close'] - pos['buy_price'])\n",
    "                positions = []\n",
    "    percentage_return = (sum(profit) / investment) * 100 if investment > 0 else 0           \n",
    "\n",
    "    return investment, sum(profit), percentage_return"
   ]
  },
  {
   "cell_type": "code",
   "execution_count": 61,
   "id": "19ec1230",
   "metadata": {
    "scrolled": true
   },
   "outputs": [],
   "source": [
    "# Example usage\n",
    "def main_function(ticker = \"AAPL\",start_date = \"2020-01-01\",end_date = \"2022-12-31\"):\n",
    "\n",
    "    data = load_data(ticker, start_date, end_date)\n",
    "    support_levels, resistance_levels = find_support_resistance_levels(data)\n",
    "    updated_support_levels, updated_resistance_levels = filter_support_resistance_levels(data, support_levels, resistance_levels)\n",
    "    data = add_support_resistance_columns(data, updated_support_levels, updated_resistance_levels)\n",
    "    data = generate_signals(data)\n",
    "    investment, total_profit, percentage_return=calculate_profit(data)\n",
    "    return data,investment, total_profit, percentage_return"
   ]
  },
  {
   "cell_type": "code",
   "execution_count": 62,
   "id": "af8f9047",
   "metadata": {},
   "outputs": [
    {
     "name": "stdout",
     "output_type": "stream",
     "text": [
      "Investment: 4449.5754813028925\n",
      "Total Profit: 490.2507516072634\n",
      "Percentage Return: 11.017921904399557\n"
     ]
    }
   ],
   "source": [
    "df,investment, total_profit, percentage_return = main_function()\n",
    "print(\"Investment:\", investment)\n",
    "print(\"Total Profit:\", total_profit)\n",
    "print(\"Percentage Return:\", percentage_return)"
   ]
  }
 ],
 "metadata": {
  "kernelspec": {
   "display_name": "Python 3 (ipykernel)",
   "language": "python",
   "name": "python3"
  },
  "language_info": {
   "codemirror_mode": {
    "name": "ipython",
    "version": 3
   },
   "file_extension": ".py",
   "mimetype": "text/x-python",
   "name": "python",
   "nbconvert_exporter": "python",
   "pygments_lexer": "ipython3",
   "version": "3.9.13"
  }
 },
 "nbformat": 4,
 "nbformat_minor": 5
}
