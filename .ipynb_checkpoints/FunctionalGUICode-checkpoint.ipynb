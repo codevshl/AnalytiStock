{
 "cells": [
  {
   "cell_type": "code",
   "execution_count": null,
   "id": "4cd5e8e6",
   "metadata": {},
   "outputs": [],
   "source": [
    "import sys\n",
    "sys.path.append(r'C:\\Users\\LUV\\T\\Functions')\n",
    "from Algorithm_Functions import main_function\n",
    "\n",
    "# import matplotlib\n",
    "# matplotlib.use('Qt5Agg')\n",
    "import tkinter as tk\n",
    "import numpy as np\n",
    "from tkinter import ttk, messagebox\n",
    "import matplotlib.pyplot as plt\n",
    "from matplotlib.backends.backend_tkagg import FigureCanvasTkAgg\n",
    "from PIL import ImageTk, Image\n",
    "import matplotlib.dates as mdates"
   ]
  },
  {
   "cell_type": "code",
   "execution_count": null,
   "id": "1003991f",
   "metadata": {},
   "outputs": [],
   "source": [
    "def create_main_window():\n",
    "    root = tk.Tk()\n",
    "    root.title(\"Stock Analysis\")\n",
    "    return root"
   ]
  },
  {
   "cell_type": "code",
   "execution_count": null,
   "id": "f86641bb",
   "metadata": {},
   "outputs": [],
   "source": [
    "def create_input_fields(root):\n",
    "    ticker_label = ttk.Label(root, text=\"Ticker Symbol:\")\n",
    "    ticker_label.grid(column=0, row=0)\n",
    "    ticker_entry = ttk.Entry(root)\n",
    "    ticker_entry.grid(column=1, row=0)\n",
    "\n",
    "    start_date_label = ttk.Label(root, text=\"Start Date (YYYY-MM-DD):\")\n",
    "    start_date_label.grid(column=0, row=1)\n",
    "    start_date_entry = ttk.Entry(root)\n",
    "    start_date_entry.grid(column=1, row=1)\n",
    "\n",
    "    end_date_label = ttk.Label(root, text=\"End Date (YYYY-MM-DD):\")\n",
    "    end_date_label.grid(column=0, row=2)\n",
    "    end_date_entry = ttk.Entry(root)\n",
    "    end_date_entry.grid(column=1, row=2)\n",
    "\n",
    "    return ticker_entry, start_date_entry, end_date_entry"
   ]
  },
  {
   "cell_type": "code",
   "execution_count": null,
   "id": "281d9c25",
   "metadata": {},
   "outputs": [],
   "source": [
    "def submit_button_click(ticker_entry, start_date_entry, end_date_entry, investment_label, profit_label,\n",
    "                        percentage_return_label):\n",
    "    ticker = ticker_entry.get()\n",
    "    start_date = start_date_entry.get()\n",
    "    end_date = end_date_entry.get()\n",
    "\n",
    "    df, investment, profit, percentage_return = main_function(ticker, start_date, end_date)\n",
    "\n",
    "    investment_label.configure(text=f\"Investment: {investment:.2f}\")\n",
    "    profit_label.configure(text=f\"Profit: {profit:.2f}\")\n",
    "    percentage_return_label.config(text=f\"Return : {percentage_return:.2f} %\")"
   ]
  },
  {
   "cell_type": "code",
   "execution_count": null,
   "id": "d475b6ae",
   "metadata": {},
   "outputs": [],
   "source": [
    "def create_submit_button(root, ticker_entry, start_date_entry, end_date_entry, investment_label, profit_label,\n",
    "                        percentage_return_label):\n",
    "    submit_button = ttk.Button(root, text=\"Submit\",\n",
    "                               command=lambda: submit_button_click(ticker_entry, start_date_entry, end_date_entry,\n",
    "                                                                  investment_label, profit_label,\n",
    "                                                                  percentage_return_label))\n",
    "    submit_button.grid(column=1, row=3)"
   ]
  },
  {
   "cell_type": "code",
   "execution_count": null,
   "id": "48cdffc2",
   "metadata": {},
   "outputs": [],
   "source": [
    "def display_dataframe(ticker_entry, start_date_entry, end_date_entry):\n",
    "    ticker = ticker_entry.get()\n",
    "    start_date = start_date_entry.get()\n",
    "    end_date = end_date_entry.get()\n",
    "\n",
    "    df, _, _, _ = main_function(ticker, start_date, end_date)\n",
    "\n",
    "    df_window = tk.Toplevel(root)\n",
    "    df_window.title(\"Stock Data\")\n",
    "\n",
    "    df_text = tk.Text(df_window)\n",
    "    df_text.pack()\n",
    "\n",
    "    df_text.insert(tk.END, df.to_string())"
   ]
  },
  {
   "cell_type": "code",
   "execution_count": null,
   "id": "fee38fe4",
   "metadata": {},
   "outputs": [],
   "source": [
    "def create_display_dataframe_button(root, ticker_entry, start_date_entry, end_date_entry):\n",
    "    df_button = ttk.Button(root, text=\"Display DataFrame\",\n",
    "                           command=lambda: display_dataframe(ticker_entry, start_date_entry, end_date_entry))\n",
    "    df_button.grid(column=1, row=4)"
   ]
  },
  {
   "cell_type": "code",
   "execution_count": null,
   "id": "b9a2977b",
   "metadata": {},
   "outputs": [],
   "source": [
    "def plot_data(ticker_entry, start_date_entry, end_date_entry, data_dropdown):\n",
    "    ticker = ticker_entry.get()\n",
    "    start_date = start_date_entry.get()\n",
    "    end_date = end_date_entry.get()\n",
    "\n",
    "    try:\n",
    "        df, _, _, _ = main_function(ticker, start_date, end_date)\n",
    "    except:\n",
    "        tk.messagebox.showerror(\"Error\", \"Could not load data.\")\n",
    "        return\n",
    "\n",
    "    selected_data = data_dropdown.get()\n",
    "\n",
    "    try:\n",
    "        fig, ax = plt.subplots()\n",
    "        if selected_data == 'Closing Price':\n",
    "            ax.plot(df['Date'], df['Close'])\n",
    "        elif selected_data == 'Volume':\n",
    "            ax.plot(df['Date'], df['Volume'])\n",
    "        elif selected_data == 'Price Change':\n",
    "            ax.plot(df['Date'][:-1], np.diff(df['Close']))\n",
    "#         elif selected_data == 'Support and Resistance':\n",
    "#             fig = plot_support_resistance(df, ticker)\n",
    "\n",
    "        date_format = mdates.DateFormatter('%d %b %Y')\n",
    "        ax.xaxis.set_major_formatter(date_format)\n",
    "        fig.autofmt_xdate()\n",
    "        ax.set_title(f\"{selected_data} for {ticker}\", color='#800080',\n",
    "                     bbox=dict(facecolor='lightgrey', edgecolor='black'))\n",
    "        ax.set_xlabel('Date', color='#800080')\n",
    "        ax.set_ylabel(f\"{selected_data}\", color='#800080')\n",
    "        fig.tight_layout()\n",
    "        ax.grid(True)\n",
    "\n",
    "        canvas = FigureCanvasTkAgg(fig, master=root)\n",
    "        canvas.draw()\n",
    "        canvas.get_tk_widget().grid(column=2, row=1, rowspan=5, padx=10, pady=10)\n",
    "\n",
    "    except:\n",
    "        tk.messagebox.showerror(\"Error\", \"Could not plot data.\")"
   ]
  },
  {
   "cell_type": "code",
   "execution_count": null,
   "id": "09dd44e2",
   "metadata": {},
   "outputs": [],
   "source": [
    "def create_plot_data_components(root, data_dropdown):\n",
    "    data_label = ttk.Label(root, text=\"Select data to plot:\")\n",
    "    data_label.grid(column=0, row=7)\n",
    "    data_options = ['Closing Price', 'Volume', 'Price Change']\n",
    "    data_dropdown = ttk.Combobox(root, values=data_options)\n",
    "    data_dropdown.grid(column=1, row=7)\n",
    "\n",
    "    plot_button = ttk.Button(root, text=\"Plot Data\",\n",
    "                             command=lambda: plot_data(ticker_entry, start_date_entry, end_date_entry, data_dropdown))\n",
    "    plot_button.grid(column=1, row=8)   "
   ]
  },
  {
   "cell_type": "code",
   "execution_count": null,
   "id": "4029fe02",
   "metadata": {},
   "outputs": [],
   "source": [
    "if __name__ == \"__main__\":\n",
    "    root = create_main_window()\n",
    "    ticker_entry, start_date_entry, end_date_entry = create_input_fields(root)\n",
    "    investment_label = ttk.Label(root, text=\"Investment: \")\n",
    "    investment_label.grid(column=0, row=4)\n",
    "    profit_label = ttk.Label(root, text=\"Profit: \")\n",
    "    profit_label.grid(column=0, row=5)\n",
    "    percentage_return_label = ttk.Label(root, text=\"Return : \")\n",
    "    percentage_return_label.grid(column=0, row=6)\n",
    "    data_dropdown = None\n",
    "    create_submit_button(root, ticker_entry, start_date_entry, end_date_entry, investment_label, profit_label,\n",
    "                        percentage_return_label)\n",
    "    create_display_dataframe_button(root, ticker_entry, start_date_entry, end_date_entry)\n",
    "    create_plot_data_components(root,data_dropdown)\n",
    "\n",
    "    root.mainloop()"
   ]
  }
 ],
 "metadata": {
  "kernelspec": {
   "display_name": "Python 3 (ipykernel)",
   "language": "python",
   "name": "python3"
  },
  "language_info": {
   "codemirror_mode": {
    "name": "ipython",
    "version": 3
   },
   "file_extension": ".py",
   "mimetype": "text/x-python",
   "name": "python",
   "nbconvert_exporter": "python",
   "pygments_lexer": "ipython3",
   "version": "3.9.13"
  }
 },
 "nbformat": 4,
 "nbformat_minor": 5
}
