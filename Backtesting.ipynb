{
 "cells": [
  {
   "cell_type": "code",
   "execution_count": null,
   "id": "9bfca954",
   "metadata": {},
   "outputs": [],
   "source": [
    "import sys\n",
    "sys.path.append(r'C:\\Users\\LUV\\T\\Functions')\n",
    "from Algorithm_Functions import load_data,find_support_resistance_levels,filter_support_resistance_levels,add_support_resistance_columns,generate_signals,calculate_profit,calculate_technical_indicators "
   ]
  },
  {
   "cell_type": "code",
   "execution_count": null,
   "id": "9aa0785e",
   "metadata": {},
   "outputs": [],
   "source": [
    "# Define a function for backtesting a single combination of ticker and date range\n",
    "def backtest_single_combination(ticker, start_date, end_date):\n",
    "    data = load_data(ticker, start_date, end_date)\n",
    "    data = calculate_technical_indicators(data)\n",
    "    support_levels, resistance_levels = find_support_resistance_levels(data)\n",
    "    updated_support_levels, updated_resistance_levels = filter_support_resistance_levels(data, support_levels, resistance_levels)\n",
    "    data = add_support_resistance_columns(data, updated_support_levels, updated_resistance_levels)\n",
    "    data = generate_signals(data)\n",
    "    investment, total_profit, percentage_return = calculate_profit(data)\n",
    "\n",
    "    return {\n",
    "        \"Ticker\": ticker,\n",
    "        \"Start Date\": start_date,\n",
    "        \"End Date\": end_date,\n",
    "        \"Investment\": investment,\n",
    "        \"Total Profit\": total_profit,\n",
    "        \"Percentage Return\": percentage_return\n",
    "    }"
   ]
  },
  {
   "cell_type": "code",
   "execution_count": null,
   "id": "4d7a0261",
   "metadata": {},
   "outputs": [],
   "source": [
    "# Define a list of ticker symbols and time periods\n",
    "ticker_symbols = [\"AAPL\", \"MSFT\", \"GOOGL\", \"AMZN\", \"TSLA\", \"META\", \"NVDA\", \"BK\", \"MA\", \"AMD\"]\n",
    "time_periods = [\n",
    "    (\"2014-01-01\", \"2014-12-31\"),\n",
    "    (\"2015-01-01\", \"2015-12-31\"),\n",
    "    (\"2016-01-01\", \"2016-12-31\"),\n",
    "    (\"2017-01-01\", \"2017-12-31\"),\n",
    "    (\"2018-01-01\", \"2018-12-31\"),\n",
    "    (\"2019-01-01\", \"2019-12-31\"),\n",
    "    (\"2020-01-01\", \"2020-12-31\"),\n",
    "    (\"2021-01-01\", \"2021-12-31\"),\n",
    "    (\"2022-01-01\", \"2022-12-31\"),\n",
    "    (\"2023-01-01\", \"2023-12-31\")\n",
    "]"
   ]
  },
  {
   "cell_type": "code",
   "execution_count": null,
   "id": "174e03a8",
   "metadata": {},
   "outputs": [],
   "source": [
    "# Initialize a list to store backtest results\n",
    "backtest_results = []"
   ]
  },
  {
   "cell_type": "code",
   "execution_count": null,
   "id": "041e317d",
   "metadata": {},
   "outputs": [],
   "source": [
    "# Loop through ticker symbols and time periods\n",
    "for ticker in ticker_symbols:\n",
    "    for start_date, end_date in time_periods:\n",
    "        result = backtest_single_combination(ticker, start_date, end_date)\n",
    "        backtest_results.append(result)"
   ]
  },
  {
   "cell_type": "code",
   "execution_count": null,
   "id": "aaa7c7a3",
   "metadata": {},
   "outputs": [],
   "source": [
    "# Print or analyze the backtest results as needed\n",
    "for result in backtest_results:\n",
    "    print(\"Ticker:\", result[\"Ticker\"])\n",
    "    print(\"Start Date:\", result[\"Start Date\"])\n",
    "    print(\"End Date:\", result[\"End Date\"])\n",
    "    print(\"Investment:\", result[\"Investment\"])\n",
    "    print(\"Total Profit:\", result[\"Total Profit\"])\n",
    "    print(\"Percentage Return:\", result[\"Percentage Return\"])\n",
    "    print(\"-\" * 50)"
   ]
  }
 ],
 "metadata": {
  "kernelspec": {
   "display_name": "Python 3 (ipykernel)",
   "language": "python",
   "name": "python3"
  },
  "language_info": {
   "codemirror_mode": {
    "name": "ipython",
    "version": 3
   },
   "file_extension": ".py",
   "mimetype": "text/x-python",
   "name": "python",
   "nbconvert_exporter": "python",
   "pygments_lexer": "ipython3",
   "version": "3.9.13"
  }
 },
 "nbformat": 4,
 "nbformat_minor": 5
}
